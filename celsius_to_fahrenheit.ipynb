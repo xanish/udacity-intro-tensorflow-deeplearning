{
  "nbformat": 4,
  "nbformat_minor": 0,
  "metadata": {
    "colab": {
      "name": "celsius-to-fahrenheit.ipynb",
      "provenance": []
    },
    "kernelspec": {
      "name": "python3",
      "display_name": "Python 3"
    }
  },
  "cells": [
    {
      "cell_type": "markdown",
      "metadata": {
        "id": "yKrMxTS6hc5H",
        "colab_type": "text"
      },
      "source": [
        "**Importing dependencies**"
      ]
    },
    {
      "cell_type": "code",
      "metadata": {
        "id": "zXHduZkygPur",
        "colab_type": "code",
        "colab": {
          "base_uri": "https://localhost:8080/",
          "height": 34
        },
        "outputId": "e59da455-df5b-49c2-9b62-78c308425215"
      },
      "source": [
        "try:\n",
        "  # Use the %tensorflow_version magic if in colab.\n",
        "  %tensorflow_version 2.x\n",
        "except Exception:\n",
        "  pass\n",
        "\n",
        "import tensorflow as tf\n",
        "import logging\n",
        "import numpy as np\n",
        "import matplotlib.pyplot as plt"
      ],
      "execution_count": 2,
      "outputs": [
        {
          "output_type": "stream",
          "text": [
            "TensorFlow 2.x selected.\n"
          ],
          "name": "stdout"
        }
      ]
    },
    {
      "cell_type": "markdown",
      "metadata": {
        "id": "jWbeTSVGiBkt",
        "colab_type": "text"
      },
      "source": [
        "**Logging**\n",
        "\n",
        "Set logging level to only display errors"
      ]
    },
    {
      "cell_type": "code",
      "metadata": {
        "id": "mG20PCwkiIS7",
        "colab_type": "code",
        "colab": {}
      },
      "source": [
        "logger = tf.get_logger()\n",
        "logger.setLevel(logging.ERROR)"
      ],
      "execution_count": 0,
      "outputs": []
    },
    {
      "cell_type": "markdown",
      "metadata": {
        "id": "TLFnhnIgiJbD",
        "colab_type": "text"
      },
      "source": [
        "**Prepare the training data**\n",
        "\n",
        "`celsius` is an array for our input values whereas `fahrenheit` is an array of expected output which should be predicted by our model after training"
      ]
    },
    {
      "cell_type": "code",
      "metadata": {
        "id": "YEplBjJviT3D",
        "colab_type": "code",
        "colab": {}
      },
      "source": [
        "celsius = np.array([-40, -10,  0,  8, 15, 22,  38],  dtype=float)\n",
        "fahrenheit = np.array([-40,  14, 32, 46, 59, 72, 100],  dtype=float)"
      ],
      "execution_count": 0,
      "outputs": []
    },
    {
      "cell_type": "markdown",
      "metadata": {
        "id": "gJsUNLgMiy4k",
        "colab_type": "text"
      },
      "source": [
        "**Verifying that data**"
      ]
    },
    {
      "cell_type": "code",
      "metadata": {
        "id": "BECQ7YZCi26E",
        "colab_type": "code",
        "colab": {
          "base_uri": "https://localhost:8080/",
          "height": 136
        },
        "outputId": "c5f34a01-8e1d-4144-b21f-c560b9b593bf"
      },
      "source": [
        "for index, c in enumerate(celsius):\n",
        "  print(c, fahrenheit[index], sep='C = ', end='F\\n')"
      ],
      "execution_count": 5,
      "outputs": [
        {
          "output_type": "stream",
          "text": [
            "-40.0C = -40.0F\n",
            "-10.0C = 14.0F\n",
            "0.0C = 32.0F\n",
            "8.0C = 46.0F\n",
            "15.0C = 59.0F\n",
            "22.0C = 72.0F\n",
            "38.0C = 100.0F\n"
          ],
          "name": "stdout"
        }
      ]
    },
    {
      "cell_type": "markdown",
      "metadata": {
        "id": "zN7j0nidkeOV",
        "colab_type": "text"
      },
      "source": [
        "**Creating the model**\n",
        "\n",
        "`tf.keras.Sequential` creates a neural net by taking layers from input to output sequentially"
      ]
    },
    {
      "cell_type": "code",
      "metadata": {
        "id": "Hvlx1dXNknb8",
        "colab_type": "code",
        "colab": {}
      },
      "source": [
        "l0 = tf.keras.layers.Dense(units=1, input_shape=[1])\n",
        "model = tf.keras.Sequential([l0])"
      ],
      "execution_count": 0,
      "outputs": []
    },
    {
      "cell_type": "markdown",
      "metadata": {
        "id": "DUxeyn9Ik9-0",
        "colab_type": "text"
      },
      "source": [
        "**Setting the loss and optimizer**\n",
        "\n",
        "Using simple `mean_squared_error` metric for `loss`, it allows for a large\n",
        "number of small errors as acceptable and doesn't allow few large errors.\n",
        "Using TensorFlow's default `Adam` optimizer to adjust weights to reduce loss value\n",
        "typical optimizer values range from 0.1 to 0.001 (lower the value more accurate the results and higher the training time)"
      ]
    },
    {
      "cell_type": "code",
      "metadata": {
        "id": "NaciHQuzli22",
        "colab_type": "code",
        "colab": {}
      },
      "source": [
        "model.compile(loss='mean_squared_error', optimizer=tf.keras.optimizers.Adam(0.1))"
      ],
      "execution_count": 0,
      "outputs": []
    },
    {
      "cell_type": "markdown",
      "metadata": {
        "id": "MA4sJCaEll1k",
        "colab_type": "text"
      },
      "source": [
        "**Training the model**\n",
        "\n",
        "The model can be trained by calling the `fit` method on the model object."
      ]
    },
    {
      "cell_type": "code",
      "metadata": {
        "id": "t6dcJfHnluMs",
        "colab_type": "code",
        "colab": {}
      },
      "source": [
        "model_history = model.fit(celsius, fahrenheit, epochs=500, verbose=False)"
      ],
      "execution_count": 0,
      "outputs": []
    },
    {
      "cell_type": "markdown",
      "metadata": {
        "id": "SXHYUf8kmwqE",
        "colab_type": "text"
      },
      "source": [
        "**Model history**\n",
        "\n",
        "`model_history` contains various training performance parameters and their values. Using these values we can plot graphs or view the changing parameter values over time."
      ]
    },
    {
      "cell_type": "code",
      "metadata": {
        "id": "MVGFM38Lm6-j",
        "colab_type": "code",
        "colab": {
          "base_uri": "https://localhost:8080/",
          "height": 34
        },
        "outputId": "ba4237a8-48ff-492a-80ec-adee7b7d76d8"
      },
      "source": [
        "print(model_history.history.keys())"
      ],
      "execution_count": 9,
      "outputs": [
        {
          "output_type": "stream",
          "text": [
            "dict_keys(['loss'])\n"
          ],
          "name": "stdout"
        }
      ]
    },
    {
      "cell_type": "markdown",
      "metadata": {
        "id": "WM0QAjCklv7F",
        "colab_type": "text"
      },
      "source": [
        "**Plotting the performance parameters**\n",
        "\n",
        "Validating the model's loss against the number of training epochs."
      ]
    },
    {
      "cell_type": "code",
      "metadata": {
        "id": "J7g-S9u0mR0G",
        "colab_type": "code",
        "colab": {
          "base_uri": "https://localhost:8080/",
          "height": 296
        },
        "outputId": "b3fbe101-167d-4c1d-d129-4ca16ed3dffc"
      },
      "source": [
        "plt.xlabel('Epoch Number')\n",
        "plt.ylabel(\"Loss Magnitude\")\n",
        "plt.plot(model_history.history['loss'])"
      ],
      "execution_count": 10,
      "outputs": [
        {
          "output_type": "execute_result",
          "data": {
            "text/plain": [
              "[<matplotlib.lines.Line2D at 0x7ff841cccc18>]"
            ]
          },
          "metadata": {
            "tags": []
          },
          "execution_count": 10
        },
        {
          "output_type": "display_data",
          "data": {
            "image/png": "[encoded data removed]",
            "text/plain": [
              "<Figure size 432x288 with 1 Axes>"
            ]
          },
          "metadata": {
            "tags": []
          }
        }
      ]
    },
    {
      "cell_type": "markdown",
      "metadata": {
        "id": "44vITIz-nKg9",
        "colab_type": "text"
      },
      "source": [
        "**Predictions**\n",
        "\n",
        "Verifying the accuracy of the model by calling the `predict` method.\n",
        "\n"
      ]
    },
    {
      "cell_type": "code",
      "metadata": {
        "id": "t2gSO8O0nbis",
        "colab_type": "code",
        "colab": {
          "base_uri": "https://localhost:8080/",
          "height": 51
        },
        "outputId": "3cebcd7a-7b84-46e0-b20a-18537e88ff1c"
      },
      "source": [
        "print(model.predict([100.0]))\n",
        "print(model.predict([32.0]))"
      ],
      "execution_count": 11,
      "outputs": [
        {
          "output_type": "stream",
          "text": [
            "[[211.29051]]\n",
            "[[87.056526]]\n"
          ],
          "name": "stdout"
        }
      ]
    },
    {
      "cell_type": "markdown",
      "metadata": {
        "id": "pU4tfZV_oy6u",
        "colab_type": "text"
      },
      "source": [
        "**Checking the weights adjusted during training**"
      ]
    },
    {
      "cell_type": "code",
      "metadata": {
        "id": "PDmtgfAOo-Ol",
        "colab_type": "code",
        "colab": {
          "base_uri": "https://localhost:8080/",
          "height": 34
        },
        "outputId": "ae933237-5535-4738-8aaa-3c6e3949203b"
      },
      "source": [
        "print(\"Weights: {}\".format(l0.get_weights()))"
      ],
      "execution_count": 12,
      "outputs": [
        {
          "output_type": "stream",
          "text": [
            "Weights: [array([[1.8269703]], dtype=float32), array([28.593477], dtype=float32)]\n"
          ],
          "name": "stdout"
        }
      ]
    },
    {
      "cell_type": "markdown",
      "metadata": {
        "id": "aDg69TqspKzF",
        "colab_type": "text"
      },
      "source": [
        "The generated weights are pretty close to the actual formula for converting degree celsius to degree fahrenheit, which is `celsius * 1.8 + 32`"
      ]
    },
    {
      "cell_type": "markdown",
      "metadata": {
        "id": "Yfc-nml1pfUU",
        "colab_type": "text"
      },
      "source": [
        "**Experimentation**\n",
        "\n",
        "Verifying the output prediction and layer weights with more dense layers"
      ]
    },
    {
      "cell_type": "code",
      "metadata": {
        "id": "mvVw18wYpvHz",
        "colab_type": "code",
        "colab": {
          "base_uri": "https://localhost:8080/",
          "height": 500
        },
        "outputId": "8a5fbc67-4a16-4dad-afdc-0fe2177a6367"
      },
      "source": [
        "l0 = tf.keras.layers.Dense(units=4, input_shape=[1])\n",
        "l1 = tf.keras.layers.Dense(units=4)\n",
        "l2 = tf.keras.layers.Dense(units=1)\n",
        "\n",
        "model = tf.keras.Sequential([l0, l1, l2])\n",
        "\n",
        "model.compile(loss='mean_squared_error', optimizer=tf.keras.optimizers.Adam(0.1))\n",
        "\n",
        "model_history = model.fit(celsius, fahrenheit, epochs=500, verbose=False)\n",
        "\n",
        "plt.xlabel('Epoch Number')\n",
        "plt.ylabel(\"Loss Magnitude\")\n",
        "plt.plot(model_history.history['loss'])\n",
        "\n",
        "print(model.predict([100.0]))\n",
        "print(model.predict([32.0]))\n",
        "\n",
        "print(\"Layer 0 Weights: {}\".format(l0.get_weights()))\n",
        "print(\"Layer 1 Weights: {}\".format(l1.get_weights()))\n",
        "print(\"Layer 2 Weights: {}\".format(l2.get_weights()))"
      ],
      "execution_count": 14,
      "outputs": [
        {
          "output_type": "stream",
          "text": [
            "[[211.74744]]\n",
            "[[89.48689]]\n",
            "Layer 0 Weights: [array([[ 0.18612695, -0.21846738,  0.40378767, -0.7721827 ]],\n",
            "      dtype=float32), array([ 2.7168913,  2.552879 , -1.5084519, -3.294549 ], dtype=float32)]\n",
            "Layer 1 Weights: [array([[-0.38830087,  0.03314761, -0.9709594 , -0.9386489 ],\n",
            "       [-0.88595283, -0.18225773, -0.7594123 , -0.35521835],\n",
            "       [ 0.03544688,  1.4846716 ,  0.16139394,  0.26130348],\n",
            "       [ 0.30721635,  1.0698545 ,  1.3727964 ,  0.5545366 ]],\n",
            "      dtype=float32), array([-2.1500988, -1.9500548, -3.2604473, -3.2656913], dtype=float32)]\n",
            "Layer 2 Weights: [array([[-0.24504234],\n",
            "       [-0.3282559 ],\n",
            "       [-1.3328084 ],\n",
            "       [-0.8766526 ]], dtype=float32), array([3.057915], dtype=float32)]\n"
          ],
          "name": "stdout"
        },
        {
          "output_type": "display_data",
          "data": {
            "image/png": "[encoded data removed]",
            "text/plain": [
              "<Figure size 432x288 with 1 Axes>"
            ]
          },
          "metadata": {
            "tags": []
          }
        }
      ]
    },
    {
      "cell_type": "markdown",
      "metadata": {
        "id": "-Vz83JIgqpem",
        "colab_type": "text"
      },
      "source": [
        "The loss graph shows how quickly the model is able to train on the given dataset once we increase the number of units and dense layers. Increasing the number of layers directly increases the learning capacity of the model at the cost of increasing the time it takes to train it. However, in this case the size of our dataset is extremely small so it doesnt really impact the training time."
      ]
    }
  ]
}