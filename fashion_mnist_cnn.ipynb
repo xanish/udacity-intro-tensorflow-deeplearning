{
  "nbformat": 4,
  "nbformat_minor": 0,
  "metadata": {
    "colab": {
      "name": "fashion_mnist_cnn.ipynb",
      "provenance": []
    },
    "kernelspec": {
      "name": "python3",
      "display_name": "Python 3"
    }
  },
  "cells": [
    {
      "cell_type": "markdown",
      "metadata": {
        "id": "LGb4aKAgSUJp",
        "colab_type": "text"
      },
      "source": [
        "**Importing dependencies**"
      ]
    },
    {
      "cell_type": "code",
      "metadata": {
        "id": "vVG6wHgOSB1b",
        "colab_type": "code",
        "colab": {
          "base_uri": "https://localhost:8080/",
          "height": 34
        },
        "outputId": "985aa138-e350-47c7-9af6-73e96ea8a2e6"
      },
      "source": [
        "try:\n",
        "  # Use the %tensorflow_version magic if in colab.\n",
        "  %tensorflow_version 2.x\n",
        "except Exception:\n",
        "  pass\n",
        "\n",
        "import tensorflow as tf\n",
        "import tensorflow_datasets as tfds\n",
        "tfds.disable_progress_bar()\n",
        "\n",
        "import math\n",
        "import numpy as np\n",
        "import matplotlib.pyplot as plt\n",
        "\n",
        "import logging\n",
        "logger = tf.get_logger()\n",
        "logger.setLevel(logging.ERROR)"
      ],
      "execution_count": 1,
      "outputs": [
        {
          "output_type": "stream",
          "text": [
            "TensorFlow 2.x selected.\n"
          ],
          "name": "stdout"
        }
      ]
    },
    {
      "cell_type": "markdown",
      "metadata": {
        "id": "2RpnEI8ZSczE",
        "colab_type": "text"
      },
      "source": [
        "**Importing the data**"
      ]
    },
    {
      "cell_type": "code",
      "metadata": {
        "id": "_pFL9mJ3SdNo",
        "colab_type": "code",
        "colab": {
          "base_uri": "https://localhost:8080/",
          "height": 649
        },
        "outputId": "34ce2ae7-3ff4-4c28-9b2f-31972ccc3ccf"
      },
      "source": [
        "dataset, metadata = tfds.load('fashion_mnist', as_supervised=True, with_info=True)\n",
        "train_dataset, test_dataset = dataset['train'], dataset['test']\n",
        "print(metadata)"
      ],
      "execution_count": 2,
      "outputs": [
        {
          "output_type": "stream",
          "text": [
            "\u001b[1mDownloading and preparing dataset fashion_mnist (29.45 MiB) to /root/tensorflow_datasets/fashion_mnist/1.0.0...\u001b[0m\n",
            "\u001b[1mDataset fashion_mnist downloaded and prepared to /root/tensorflow_datasets/fashion_mnist/1.0.0. Subsequent calls will reuse this data.\u001b[0m\n",
            "tfds.core.DatasetInfo(\n",
            "    name='fashion_mnist',\n",
            "    version=1.0.0,\n",
            "    description='Fashion-MNIST is a dataset of Zalando's article images consisting of a training set of 60,000 examples and a test set of 10,000 examples. Each example is a 28x28 grayscale image, associated with a label from 10 classes.',\n",
            "    urls=['https://github.com/zalandoresearch/fashion-mnist'],\n",
            "    features=FeaturesDict({\n",
            "        'image': Image(shape=(28, 28, 1), dtype=tf.uint8),\n",
            "        'label': ClassLabel(shape=(), dtype=tf.int64, num_classes=10),\n",
            "    }),\n",
            "    total_num_examples=70000,\n",
            "    splits={\n",
            "        'test': 10000,\n",
            "        'train': 60000,\n",
            "    },\n",
            "    supervised_keys=('image', 'label'),\n",
            "    citation=\"\"\"@article{DBLP:journals/corr/abs-1708-07747,\n",
            "      author    = {Han Xiao and\n",
            "                   Kashif Rasul and\n",
            "                   Roland Vollgraf},\n",
            "      title     = {Fashion-MNIST: a Novel Image Dataset for Benchmarking Machine Learning\n",
            "                   Algorithms},\n",
            "      journal   = {CoRR},\n",
            "      volume    = {abs/1708.07747},\n",
            "      year      = {2017},\n",
            "      url       = {http://arxiv.org/abs/1708.07747},\n",
            "      archivePrefix = {arXiv},\n",
            "      eprint    = {1708.07747},\n",
            "      timestamp = {Mon, 13 Aug 2018 16:47:27 +0200},\n",
            "      biburl    = {https://dblp.org/rec/bib/journals/corr/abs-1708-07747},\n",
            "      bibsource = {dblp computer science bibliography, https://dblp.org}\n",
            "    }\"\"\",\n",
            "    redistribution_info=,\n",
            ")\n",
            "\n"
          ],
          "name": "stdout"
        }
      ]
    },
    {
      "cell_type": "markdown",
      "metadata": {
        "id": "DlipCBLGSnnQ",
        "colab_type": "text"
      },
      "source": [
        "**Output Labels**"
      ]
    },
    {
      "cell_type": "code",
      "metadata": {
        "id": "P1ke1PyKSm7g",
        "colab_type": "code",
        "colab": {}
      },
      "source": [
        "labels = ['T-shirt/top', 'Trouser', 'Pullover', 'Dress', 'Coat', 'Sandal', 'Shirt', 'Sneaker', 'Bag', 'Ankle boot']"
      ],
      "execution_count": 0,
      "outputs": []
    },
    {
      "cell_type": "markdown",
      "metadata": {
        "id": "CdMPbuVtSpxQ",
        "colab_type": "text"
      },
      "source": [
        "**Preprocessing**\n",
        "\n",
        "Normalizing the data to prevent slow gradient convergence. Caching it in memory to prevent loading it from disk while training."
      ]
    },
    {
      "cell_type": "code",
      "metadata": {
        "id": "q123Jt53SrOg",
        "colab_type": "code",
        "colab": {}
      },
      "source": [
        "def normalize(images, labels):\n",
        "    images = tf.cast(images, tf.float32)\n",
        "    images /= 255\n",
        "    return images, labels\n",
        "\n",
        "train_dataset = train_dataset.map(normalize)\n",
        "test_dataset = test_dataset.map(normalize)\n",
        "\n",
        "# cache the dataset for better loading\n",
        "train_dataset = train_dataset.cache()\n",
        "test_dataset = test_dataset.cache()"
      ],
      "execution_count": 0,
      "outputs": []
    },
    {
      "cell_type": "markdown",
      "metadata": {
        "id": "Cc18H1-YS0AI",
        "colab_type": "text"
      },
      "source": [
        "**Creating the model**\n",
        "\n",
        "`tf.keras.Sequential` creates a neural net by taking layers from input to output sequetially. We flatten the image to send it as a single dimensional array of size 784 to the input layers.\n",
        "\n",
        "`tf.keras.layers.Conv2D` and `tf.keras.layers.MaxPooling2D` - The first convolution layer maintains the image size using padding, enhances the details present in the image and outputs 32 different convolutions. These images are then passed through a max pooling layer to remove insignificant details and reduceing image size.\n",
        "\n",
        "We're using `ReLU (Rectified Linear Unit)` as an activation function allows us to deal with the non linear dependencies / interaction between inputs values\n",
        "as ReLU only outputs the value when the net result produced at the node is positive. \n",
        "\n",
        "We're using `Softmax` as the activation of output layers which is like logistic regression but for predicting probabilistic values for multi-label classification. It provides a probability of current input Xi belonging to the class label Lj."
      ]
    },
    {
      "cell_type": "code",
      "metadata": {
        "id": "e6KmS11BS0fA",
        "colab_type": "code",
        "colab": {}
      },
      "source": [
        "model = tf.keras.Sequential([\n",
        "    tf.keras.layers.Conv2D(32, (3,3), padding='same', activation=tf.nn.relu, input_shape=(28, 28, 1)),\n",
        "    tf.keras.layers.MaxPooling2D((2, 2), strides=2),\n",
        "    tf.keras.layers.Conv2D(64, (3,3), padding='same', activation=tf.nn.relu),\n",
        "    tf.keras.layers.MaxPooling2D((2, 2), strides=2),\n",
        "    tf.keras.layers.Flatten(),\n",
        "    tf.keras.layers.Dense(128, activation=tf.nn.relu),\n",
        "    tf.keras.layers.Dense(10,  activation=tf.nn.softmax)\n",
        "])"
      ],
      "execution_count": 0,
      "outputs": []
    },
    {
      "cell_type": "markdown",
      "metadata": {
        "id": "zc_wumuZTV14",
        "colab_type": "text"
      },
      "source": [
        "**Compiling the model**\n",
        "\n",
        "Using `sparse_categorical_crossentropy` as the `loss` functon to measure the dissimilarity between the distribution of observed class labels and the predicted probabilities.\n",
        "1. Sparse refers to using a single integer from zero to the number of classes minus one for class labels, instead of a dense one-hot encoding of the class label (e.g. { 1,0,0; 0,1,0; or 0,0,1 }).\n",
        "2. Categorical refers to the possibility of having more than two classes.\n",
        "3. Cross-entropy loss increases as the predicted probability diverges from the actual label.\n",
        "\n",
        "Using TensorFlow's default `Adam` optimizer to adjust weights to reduce loss value, typical optimizer values range from 0.1 to 0.001 (lower the value more accurate the results and higher the training time)\n",
        "\n",
        "Metrics are used to monitor the training and testing steps by specifying what parameter will be used to judge the performance of the model. The following example uses accuracy, the fraction of the images that are correctly classified."
      ]
    },
    {
      "cell_type": "code",
      "metadata": {
        "id": "ZOYqPbLMTXTI",
        "colab_type": "code",
        "colab": {}
      },
      "source": [
        "model.compile(loss='sparse_categorical_crossentropy', optimizer=tf.keras.optimizers.Adam(0.001), metrics=['accuracy'])"
      ],
      "execution_count": 0,
      "outputs": []
    },
    {
      "cell_type": "markdown",
      "metadata": {
        "id": "EiugnP_KTYZ5",
        "colab_type": "text"
      },
      "source": [
        "**Training the model**"
      ]
    },
    {
      "cell_type": "code",
      "metadata": {
        "id": "DfkeNCQXTYuj",
        "colab_type": "code",
        "colab": {
          "base_uri": "https://localhost:8080/",
          "height": 374
        },
        "outputId": "fedef932-6526-45c3-fe42-d2b7224ddcd6"
      },
      "source": [
        "BATCH_SIZE = 32\n",
        "num_train_examples = metadata.splits['train'].num_examples\n",
        "num_test_examples = metadata.splits['test'].num_examples\n",
        "train_dataset = train_dataset.repeat().shuffle(num_train_examples).batch(BATCH_SIZE)\n",
        "test_dataset = test_dataset.batch(BATCH_SIZE)\n",
        "\n",
        "model_history = model.fit(train_dataset, epochs=10, steps_per_epoch=math.ceil(num_train_examples/BATCH_SIZE))"
      ],
      "execution_count": 7,
      "outputs": [
        {
          "output_type": "stream",
          "text": [
            "Train for 1875 steps\n",
            "Epoch 1/10\n",
            "1875/1875 [==============================] - 100s 53ms/step - loss: 0.4030 - accuracy: 0.8554\n",
            "Epoch 2/10\n",
            "1875/1875 [==============================] - 89s 47ms/step - loss: 0.2592 - accuracy: 0.9049\n",
            "Epoch 3/10\n",
            "1875/1875 [==============================] - 90s 48ms/step - loss: 0.2159 - accuracy: 0.9205\n",
            "Epoch 4/10\n",
            "1875/1875 [==============================] - 91s 49ms/step - loss: 0.1836 - accuracy: 0.9333\n",
            "Epoch 5/10\n",
            "1875/1875 [==============================] - 91s 49ms/step - loss: 0.1560 - accuracy: 0.9428\n",
            "Epoch 6/10\n",
            "1875/1875 [==============================] - 90s 48ms/step - loss: 0.1337 - accuracy: 0.9503\n",
            "Epoch 7/10\n",
            "1875/1875 [==============================] - 92s 49ms/step - loss: 0.1129 - accuracy: 0.9585\n",
            "Epoch 8/10\n",
            "1875/1875 [==============================] - 91s 48ms/step - loss: 0.0962 - accuracy: 0.9638\n",
            "Epoch 9/10\n",
            "1875/1875 [==============================] - 90s 48ms/step - loss: 0.0777 - accuracy: 0.9707\n",
            "Epoch 10/10\n",
            "1875/1875 [==============================] - 92s 49ms/step - loss: 0.0674 - accuracy: 0.9746\n"
          ],
          "name": "stdout"
        }
      ]
    },
    {
      "cell_type": "markdown",
      "metadata": {
        "id": "XGKOoBLXTtOI",
        "colab_type": "text"
      },
      "source": [
        "**Evaluating accuracy against test data**"
      ]
    },
    {
      "cell_type": "code",
      "metadata": {
        "id": "FXq_QGwvTuFo",
        "colab_type": "code",
        "colab": {
          "base_uri": "https://localhost:8080/",
          "height": 371
        },
        "outputId": "e9e27217-9e65-4380-9d7f-afad4b52c568"
      },
      "source": [
        "plt.figure(figsize=(12,5))\n",
        "plt.subplot(1,2,1)\n",
        "plt.xlabel('Epoch Number')\n",
        "plt.ylabel(\"Loss\")\n",
        "plt.plot(model_history.history['loss'])\n",
        "plt.subplot(1,2,2)\n",
        "plt.xlabel('Epoch Number')\n",
        "plt.ylabel(\"Accuracy\")\n",
        "plt.plot(model_history.history['accuracy'])\n",
        "plt.show()\n",
        "\n",
        "test_loss, test_accuracy = model.evaluate(test_dataset, steps=math.ceil(num_test_examples/BATCH_SIZE))\n",
        "print('Accuracy on test dataset:', test_accuracy)"
      ],
      "execution_count": 8,
      "outputs": [
        {
          "output_type": "display_data",
          "data": {
            "image/png": "[encoded data removed]",
            "text/plain": [
              "<Figure size 864x360 with 2 Axes>"
            ]
          },
          "metadata": {
            "tags": []
          }
        },
        {
          "output_type": "stream",
          "text": [
            "313/313 [==============================] - 8s 27ms/step - loss: 0.3353 - accuracy: 0.9168\n",
            "Accuracy on test dataset: 0.9168\n"
          ],
          "name": "stdout"
        }
      ]
    },
    {
      "cell_type": "markdown",
      "metadata": {
        "id": "vCRuJXIdTxbY",
        "colab_type": "text"
      },
      "source": [
        "**Predictions**"
      ]
    },
    {
      "cell_type": "code",
      "metadata": {
        "id": "Y6_tkRF0TzUJ",
        "colab_type": "code",
        "colab": {
          "base_uri": "https://localhost:8080/",
          "height": 187
        },
        "outputId": "61ed895d-ee37-4e8e-eecf-174e6dc1ea7a"
      },
      "source": [
        "for test_images, test_labels in test_dataset.take(10):\n",
        "  test_images = test_images.numpy()\n",
        "  test_labels = test_labels.numpy()\n",
        "  predictions = model.predict(test_images)\n",
        "  print(\"Predicted: \", labels[np.argmax(predictions[0])], \", Expected: \", labels[test_labels[0]])"
      ],
      "execution_count": 9,
      "outputs": [
        {
          "output_type": "stream",
          "text": [
            "Predicted:  Shirt , Expected:  Shirt\n",
            "Predicted:  T-shirt/top , Expected:  T-shirt/top\n",
            "Predicted:  Pullover , Expected:  Pullover\n",
            "Predicted:  Dress , Expected:  Dress\n",
            "Predicted:  Shirt , Expected:  T-shirt/top\n",
            "Predicted:  Dress , Expected:  Dress\n",
            "Predicted:  Sneaker , Expected:  Sneaker\n",
            "Predicted:  Sandal , Expected:  Sandal\n",
            "Predicted:  Ankle boot , Expected:  Ankle boot\n",
            "Predicted:  Ankle boot , Expected:  Ankle boot\n"
          ],
          "name": "stdout"
        }
      ]
    }
  ]
}